{
  "nbformat": 4,
  "nbformat_minor": 0,
  "metadata": {
    "colab": {
      "name": "Untitled4.ipynb",
      "provenance": [],
      "authorship_tag": "ABX9TyNM52268b2YcadAnEMQ0Vc+",
      "include_colab_link": true
    },
    "kernelspec": {
      "name": "python3",
      "display_name": "Python 3"
    }
  },
  "cells": [
    {
      "cell_type": "markdown",
      "metadata": {
        "id": "view-in-github",
        "colab_type": "text"
      },
      "source": [
        "<a href=\"https://colab.research.google.com/github/pradeepkc11/NLP-from-Tensorflow/blob/master/Untitled4.ipynb\" target=\"_parent\"><img src=\"https://colab.research.google.com/assets/colab-badge.svg\" alt=\"Open In Colab\"/></a>"
      ]
    },
    {
      "cell_type": "code",
      "metadata": {
        "id": "8LLOoqjCh5wM",
        "colab_type": "code",
        "colab": {}
      },
      "source": [
        ""
      ],
      "execution_count": 0,
      "outputs": []
    },
    {
      "cell_type": "markdown",
      "metadata": {
        "id": "XJ_lNoEbKIKq",
        "colab_type": "text"
      },
      "source": [
        "Importing required Packages"
      ]
    },
    {
      "cell_type": "code",
      "metadata": {
        "id": "0nD9jUHciA27",
        "colab_type": "code",
        "colab": {}
      },
      "source": [
        "import tensorflow as tf\n",
        "from tensorflow import keras\n",
        "from keras.preprocessing.text import Tokenizer\n",
        "from keras.preprocessing.sequence import pad_sequences"
      ],
      "execution_count": 0,
      "outputs": []
    },
    {
      "cell_type": "markdown",
      "metadata": {
        "id": "HUyC9Jp7KGfX",
        "colab_type": "text"
      },
      "source": [
        "Giving the input data and tokenizing the data and converting it into a sequence and matrix format"
      ]
    },
    {
      "cell_type": "code",
      "metadata": {
        "id": "iQQWhReGPAlc",
        "colab_type": "code",
        "outputId": "bb7c6d61-d350-4717-ddfe-7d1d8555d54b",
        "colab": {
          "base_uri": "https://localhost:8080/",
          "height": 118
        }
      },
      "source": [
        "sentence=[\"I love my dog\",\n",
        "          \"I love my cat\",\n",
        "          \"I love my dog?\",\n",
        "          \"Do you think my dog is amazing\"]\n",
        "\n",
        "token=Tokenizer(num_words=100,oov_token=\"<oov>\")\n",
        "token.fit_on_texts(sentence)\n",
        "word_index=token.word_index\n",
        "sequence=token.texts_to_sequences(sentence)\n",
        "padded=pad_sequences(sequence,padding=\"post\",maxlen=7,\n",
        "                     truncating=\"pre\")\n",
        "\n",
        "print(word_index)\n",
        "print(sequence)\n",
        "print(padded)"
      ],
      "execution_count": 0,
      "outputs": [
        {
          "output_type": "stream",
          "text": [
            "{'<oov>': 1, 'my': 2, 'i': 3, 'love': 4, 'dog': 5, 'cat': 6, 'do': 7, 'you': 8, 'think': 9, 'is': 10, 'amazing': 11}\n",
            "[[3, 4, 2, 5], [3, 4, 2, 6], [3, 4, 2, 5], [7, 8, 9, 2, 5, 10, 11]]\n",
            "[[ 3  4  2  5  0  0  0]\n",
            " [ 3  4  2  6  0  0  0]\n",
            " [ 3  4  2  5  0  0  0]\n",
            " [ 7  8  9  2  5 10 11]]\n"
          ],
          "name": "stdout"
        }
      ]
    },
    {
      "cell_type": "code",
      "metadata": {
        "id": "_U0gCSy_P0ij",
        "colab_type": "code",
        "outputId": "60e5060f-ec51-4e44-e557-8e03c6b3c770",
        "colab": {
          "base_uri": "https://localhost:8080/",
          "height": 34
        }
      },
      "source": [
        "test_data=[\"i really love my dog\",\n",
        "           \"my dog loves my manatee\"]\n",
        "\n",
        "test_seq=token.texts_to_sequences(test_data)\n",
        "print(test_seq)"
      ],
      "execution_count": 0,
      "outputs": [
        {
          "output_type": "stream",
          "text": [
            "[[3, 1, 4, 2, 5], [2, 5, 1, 2, 1]]\n"
          ],
          "name": "stdout"
        }
      ]
    },
    {
      "cell_type": "code",
      "metadata": {
        "id": "XTaCoUyWR9Xp",
        "colab_type": "code",
        "colab": {}
      },
      "source": [
        ""
      ],
      "execution_count": 0,
      "outputs": []
    }
  ]
}